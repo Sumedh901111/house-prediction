{
 "cells": [
  {
   "cell_type": "code",
   "execution_count": 53,
   "id": "c606bab5-dd88-4f4f-bc0e-6ab44ebf1409",
   "metadata": {},
   "outputs": [],
   "source": [
    "import os\n",
    "import joblib\n",
    "import numpy as np\n",
    "import pandas as pd\n",
    "from sklearn.preprocessing import StandardScaler,OneHotEncoder\n",
    "from sklearn.model_selection import train_test_split,GridSearchCV\n",
    "from sklearn.ensemble import RandomForestRegressor\n",
    "from sklearn.pipeline import Pipeline\n",
    "from sklearn.compose import ColumnTransformer\n",
    "from sklearn.impute import SimpleImputer\n",
    "from sklearn.metrics import root_mean_squared_error, r2_score"
   ]
  },
  {
   "cell_type": "code",
   "execution_count": 54,
   "id": "dc96690c-a2d9-4264-bbbd-c0e82fd9bde3",
   "metadata": {},
   "outputs": [],
   "source": [
    "MODEL='model.pkl'\n",
    "PIPELINE='pipeline.pkl'"
   ]
  },
  {
   "cell_type": "code",
   "execution_count": 55,
   "id": "36acacae-a3da-4d9c-8698-77d5d9f6e5e6",
   "metadata": {},
   "outputs": [],
   "source": [
    "def pipe(num_attr,cat_attr):\n",
    "    num=Pipeline([\n",
    "        ('imputer',SimpleImputer(strategy='median')),\n",
    "        ('sc',StandardScaler()),\n",
    "    ])\n",
    "    cat= Pipeline([\n",
    "        ('imputer', SimpleImputer(strategy='most_frequent')),\n",
    "        ('ohe', OneHotEncoder(drop='first', handle_unknown='ignore'))\n",
    "    ])\n",
    "    full_pipe=ColumnTransformer([\n",
    "        ('num',num,num_attr),\n",
    "        ('cat',cat,cat_attr)\n",
    "    ])\n",
    "    return full_pipe\n"
   ]
  },
  {
   "cell_type": "code",
   "execution_count": 58,
   "id": "6b8e74ec-1c11-405a-9a0c-b6ebe0e2b97f",
   "metadata": {},
   "outputs": [
    {
     "name": "stdout",
     "output_type": "stream",
     "text": [
      "model loaded prediction and saved to predicted_price.csv\n",
      "RMSE: 1324508.13, R²: 0.65\n"
     ]
    }
   ],
   "source": [
    "if os.path.exists(MODEL):\n",
    "    model=joblib.load(MODEL)\n",
    "    pipeline=joblib.load(PIPELINE)\n",
    "    x_test=pd.read_csv('test_features.csv')\n",
    "    y_test=pd.read_csv('actual_price.csv')\n",
    "    prediction=pipeline.predict(x_test)\n",
    "    pd.DataFrame(prediction,columns=['price']).to_csv('predicted_price.csv',index=False)\n",
    "    print(\"model loaded prediction and saved to predicted_price.csv\")\n",
    "    rmse=root_mean_squared_error(y_test,prediction)\n",
    "    r2=r2_score(y_test,prediction)\n",
    "    print(f\"RMSE: {rmse:.2f}, R²: {r2:.2f}\")\n",
    "else:\n",
    "    df=pd.read_csv('Housing.csv')\n",
    "    df1=df.copy()\n",
    "    X=df1.drop(columns=['price'])\n",
    "    y=df1['price']\n",
    "    x_train,x_test,y_train,y_test=train_test_split(X,y,random_state=42,test_size=0.2)\n",
    "    x_test.to_csv(\"test_features.csv\",index=False)\n",
    "    y_test.to_csv(\"actual_price.csv\",index=False)\n",
    "    num=x_train.select_dtypes(include=np.number).columns.tolist()\n",
    "    cat=x_train.select_dtypes(exclude=np.number).columns.tolist()\n",
    "    preprocessed=pipe(num,cat)\n",
    "    pipeline=Pipeline([\n",
    "    ('preprocessor',preprocessed),\n",
    "    ('model',LassoCV(alphas=[0.0001,0.001,0.01,0.1,1],cv=5, random_state=42, max_iter=10000))\n",
    "    ])\n",
    "    #train model\n",
    "    pipeline.fit(x_train,y_train)\n",
    "    joblib.dump(pipeline,'pipeline.pkl') #pipeline.pkl saves both model and preprocessor\n",
    "    joblib.dump(pipeline.named_steps['model'],'model.pkl')#it stores only model for input of preprocesses data\n",
    "    print(\"model is trained and saved\")"
   ]
  },
  {
   "cell_type": "code",
   "execution_count": null,
   "id": "539d9d42-6247-4466-acac-6e3903d2a960",
   "metadata": {},
   "outputs": [],
   "source": []
  }
 ],
 "metadata": {
  "kernelspec": {
   "display_name": "Python [conda env:base] *",
   "language": "python",
   "name": "conda-base-py"
  },
  "language_info": {
   "codemirror_mode": {
    "name": "ipython",
    "version": 3
   },
   "file_extension": ".py",
   "mimetype": "text/x-python",
   "name": "python",
   "nbconvert_exporter": "python",
   "pygments_lexer": "ipython3",
   "version": "3.13.5"
  }
 },
 "nbformat": 4,
 "nbformat_minor": 5
}
